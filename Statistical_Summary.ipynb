{
 "cells": [
  {
   "cell_type": "code",
   "execution_count": null,
   "id": "552f7cdb-cfee-4daf-ad3b-be024f6e86d0",
   "metadata": {},
   "outputs": [],
   "source": [
    "# statistical summary\n",
    "rfm_score = rfm['rfm_score_total']\n",
    "rfm_score.index = rfm.index.astype(int)\n",
    "rfm_score = rfm_score.sort_index()\n",
    "rfm_score"
   ]
  },
  {
   "cell_type": "code",
   "execution_count": null,
   "id": "98164086-226a-4cce-82a4-617a86ea31a6",
   "metadata": {},
   "outputs": [],
   "source": [
    "# Demonstrate calculating measures of central tendency\n",
    "mean_numpy = np.mean(rfm_score)\n",
    "print(f\"The mean rfm_score is {mean_numpy}\")\n",
    "\n",
    "median_numpy = np.median(rfm_score)\n",
    "print(f\"The median rfm_score is {median_numpy}\")\n",
    "\n",
    "mode_scipy = st.mode(rfm_score)\n",
    "print(f\"The mode rfm_score is {mode_scipy}\")"
   ]
  },
  {
   "cell_type": "code",
   "execution_count": null,
   "id": "c278a8fe-7f25-453f-bfe1-7d74345e9d26",
   "metadata": {},
   "outputs": [],
   "source": [
    "# value_counts()\n",
    "rfm_score.value_counts()"
   ]
  },
  {
   "cell_type": "code",
   "execution_count": null,
   "id": "49e1a8d0-5302-48c8-b91d-32f0a815c80f",
   "metadata": {},
   "outputs": [],
   "source": [
    "# Characterize the data set using matplotlib and stats.normaltest\n",
    "plt.hist(rfm_score)\n",
    "plt.xlabel('rfm_total_score')\n",
    "plt.ylabel('Counts')\n",
    "plt.show()"
   ]
  },
  {
   "cell_type": "code",
   "execution_count": null,
   "id": "6826db02-a4ab-452c-8f1c-c07167e12c16",
   "metadata": {},
   "outputs": [],
   "source": [
    "# The test statistic measures how different your data is from a normal distribution.\n",
    "# A higher statistic means the data deviates more from normality\n",
    "# P-value tells whether we should reject the null hypothesis or not.\n",
    "# Null Hypothesis in this case is rfm_score is normally distributed.\n",
    "# Alternative Hypothesis is rfm_score is NOT normally distributed.\n",
    "# according to the p-value (0.177), we can't reject null hypothesis (p-value < 0.05), so we can tell rfm_score does not significantly deviate from a normal distribution.\n",
    "\n",
    "st.normaltest(rfm_score)"
   ]
  },
  {
   "cell_type": "code",
   "execution_count": null,
   "id": "cc2d805c-9800-4da2-a765-d1c81144e6ea",
   "metadata": {},
   "outputs": [],
   "source": [
    "# Demonstrate calculating the variance and standard deviation using the different modules\n",
    "var_numpy = np.var(rfm_score)\n",
    "print(f\"The population variance using the NumPy module is {var_numpy}\")\n",
    "\n",
    "sd_numpy = np.std(rfm_score)\n",
    "print(f\"The population standard deviation using the NumPy module is {sd_numpy}\")"
   ]
  },
  {
   "cell_type": "code",
   "execution_count": null,
   "id": "ac2946d3-6831-4b85-8785-df55c3c8ad6a",
   "metadata": {},
   "outputs": [],
   "source": [
    "# Calculate the 68-95-99.7 rule using the standard deviation\n",
    "print(f\"Roughly 68% of the data is between {round(mean_numpy-sd_numpy,3)} and {round(mean_numpy+sd_numpy,3)}\")\n",
    "print(f\"Roughly 95% of the data is between {round(mean_numpy-2*sd_numpy,3)} and {round(mean_numpy+2*sd_numpy,3)}\")\n",
    "print(f\"Roughly 99.7% of the data is between {round(mean_numpy-3*sd_numpy,3)} and {round(mean_numpy+3*sd_numpy,3)}\")"
   ]
  },
  {
   "cell_type": "code",
   "execution_count": null,
   "id": "7a9afccc-ec61-41e7-b9c9-a59102990ccd",
   "metadata": {},
   "outputs": [],
   "source": []
  },
  {
   "cell_type": "code",
   "execution_count": null,
   "id": "5c0eaca7-e3c9-4944-8936-3b3bddc65485",
   "metadata": {},
   "outputs": [],
   "source": []
  }
 ],
 "metadata": {
  "kernelspec": {
   "display_name": "Python 3 (ipykernel)",
   "language": "python",
   "name": "python3"
  },
  "language_info": {
   "codemirror_mode": {
    "name": "ipython",
    "version": 3
   },
   "file_extension": ".py",
   "mimetype": "text/x-python",
   "name": "python",
   "nbconvert_exporter": "python",
   "pygments_lexer": "ipython3",
   "version": "3.11.7"
  }
 },
 "nbformat": 4,
 "nbformat_minor": 5
}
